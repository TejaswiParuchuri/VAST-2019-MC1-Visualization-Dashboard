{
 "cells": [
  {
   "cell_type": "code",
   "execution_count": 1,
   "metadata": {},
   "outputs": [],
   "source": [
    "import pandas as pd \n",
    "import numpy as np \n",
    "import copy"
   ]
  },
  {
   "cell_type": "code",
   "execution_count": 2,
   "metadata": {},
   "outputs": [],
   "source": [
    "df1 = pd.read_csv(\"../data/mc1-reports-data.csv\")\n",
    "df1[\"time\"] = pd.to_datetime(df1.time,infer_datetime_format=True)\n",
    "df1 = df1.sort_values(by=\"time\")\n",
    "df1.reset_index(inplace=True, drop=False)\n",
    "df1 = df1.drop('index',axis=1)\n"
   ]
  },
  {
   "cell_type": "code",
   "execution_count": 3,
   "metadata": {},
   "outputs": [],
   "source": [
    "df=copy.deepcopy(df1)\n",
    "for i in df:\n",
    "    df[i]=df[i].fillna(0)"
   ]
  },
  {
   "cell_type": "code",
   "execution_count": 4,
   "metadata": {},
   "outputs": [
    {
     "output_type": "execute_result",
     "data": {
      "text/plain": [
       "            time  sewer_and_water  power  roads_and_bridges  medical  \\\n",
       "0     2020-04-06              2.0    4.0                1.0      0.0   \n",
       "1     2020-04-06              2.0    8.0                5.0      0.0   \n",
       "2     2020-04-06              9.0    7.0                5.0      0.0   \n",
       "3     2020-04-06             10.0    2.0                9.0      0.0   \n",
       "4     2020-04-06              6.0    2.0                9.0      0.0   \n",
       "...          ...              ...    ...                ...      ...   \n",
       "83065 2020-04-11              7.0    7.0                8.0     10.0   \n",
       "83066 2020-04-11              5.0    2.0                2.0      0.0   \n",
       "83067 2020-04-11              5.0    1.0                3.0      0.0   \n",
       "83068 2020-04-11              4.0    9.0                7.0      0.0   \n",
       "83069 2020-04-11              7.0    1.0                8.0      0.0   \n",
       "\n",
       "       buildings  shake_intensity  location ImpactAndDamage  \n",
       "0            4.0              0.0        17            None  \n",
       "1            3.0              0.0         2            None  \n",
       "2            4.0              0.0         8            None  \n",
       "3           10.0              0.0         4            None  \n",
       "4            4.0              1.0        15            None  \n",
       "...          ...              ...       ...             ...  \n",
       "83065       10.0              0.0         6            None  \n",
       "83066        8.0              0.0         2            None  \n",
       "83067        2.0              0.0        15            None  \n",
       "83068        7.0              0.0        13            None  \n",
       "83069        1.0              0.0         2            None  \n",
       "\n",
       "[83070 rows x 9 columns]"
      ],
      "text/html": "<div>\n<style scoped>\n    .dataframe tbody tr th:only-of-type {\n        vertical-align: middle;\n    }\n\n    .dataframe tbody tr th {\n        vertical-align: top;\n    }\n\n    .dataframe thead th {\n        text-align: right;\n    }\n</style>\n<table border=\"1\" class=\"dataframe\">\n  <thead>\n    <tr style=\"text-align: right;\">\n      <th></th>\n      <th>time</th>\n      <th>sewer_and_water</th>\n      <th>power</th>\n      <th>roads_and_bridges</th>\n      <th>medical</th>\n      <th>buildings</th>\n      <th>shake_intensity</th>\n      <th>location</th>\n      <th>ImpactAndDamage</th>\n    </tr>\n  </thead>\n  <tbody>\n    <tr>\n      <th>0</th>\n      <td>2020-04-06</td>\n      <td>2.0</td>\n      <td>4.0</td>\n      <td>1.0</td>\n      <td>0.0</td>\n      <td>4.0</td>\n      <td>0.0</td>\n      <td>17</td>\n      <td>None</td>\n    </tr>\n    <tr>\n      <th>1</th>\n      <td>2020-04-06</td>\n      <td>2.0</td>\n      <td>8.0</td>\n      <td>5.0</td>\n      <td>0.0</td>\n      <td>3.0</td>\n      <td>0.0</td>\n      <td>2</td>\n      <td>None</td>\n    </tr>\n    <tr>\n      <th>2</th>\n      <td>2020-04-06</td>\n      <td>9.0</td>\n      <td>7.0</td>\n      <td>5.0</td>\n      <td>0.0</td>\n      <td>4.0</td>\n      <td>0.0</td>\n      <td>8</td>\n      <td>None</td>\n    </tr>\n    <tr>\n      <th>3</th>\n      <td>2020-04-06</td>\n      <td>10.0</td>\n      <td>2.0</td>\n      <td>9.0</td>\n      <td>0.0</td>\n      <td>10.0</td>\n      <td>0.0</td>\n      <td>4</td>\n      <td>None</td>\n    </tr>\n    <tr>\n      <th>4</th>\n      <td>2020-04-06</td>\n      <td>6.0</td>\n      <td>2.0</td>\n      <td>9.0</td>\n      <td>0.0</td>\n      <td>4.0</td>\n      <td>1.0</td>\n      <td>15</td>\n      <td>None</td>\n    </tr>\n    <tr>\n      <th>...</th>\n      <td>...</td>\n      <td>...</td>\n      <td>...</td>\n      <td>...</td>\n      <td>...</td>\n      <td>...</td>\n      <td>...</td>\n      <td>...</td>\n      <td>...</td>\n    </tr>\n    <tr>\n      <th>83065</th>\n      <td>2020-04-11</td>\n      <td>7.0</td>\n      <td>7.0</td>\n      <td>8.0</td>\n      <td>10.0</td>\n      <td>10.0</td>\n      <td>0.0</td>\n      <td>6</td>\n      <td>None</td>\n    </tr>\n    <tr>\n      <th>83066</th>\n      <td>2020-04-11</td>\n      <td>5.0</td>\n      <td>2.0</td>\n      <td>2.0</td>\n      <td>0.0</td>\n      <td>8.0</td>\n      <td>0.0</td>\n      <td>2</td>\n      <td>None</td>\n    </tr>\n    <tr>\n      <th>83067</th>\n      <td>2020-04-11</td>\n      <td>5.0</td>\n      <td>1.0</td>\n      <td>3.0</td>\n      <td>0.0</td>\n      <td>2.0</td>\n      <td>0.0</td>\n      <td>15</td>\n      <td>None</td>\n    </tr>\n    <tr>\n      <th>83068</th>\n      <td>2020-04-11</td>\n      <td>4.0</td>\n      <td>9.0</td>\n      <td>7.0</td>\n      <td>0.0</td>\n      <td>7.0</td>\n      <td>0.0</td>\n      <td>13</td>\n      <td>None</td>\n    </tr>\n    <tr>\n      <th>83069</th>\n      <td>2020-04-11</td>\n      <td>7.0</td>\n      <td>1.0</td>\n      <td>8.0</td>\n      <td>0.0</td>\n      <td>1.0</td>\n      <td>0.0</td>\n      <td>2</td>\n      <td>None</td>\n    </tr>\n  </tbody>\n</table>\n<p>83070 rows × 9 columns</p>\n</div>"
     },
     "metadata": {},
     "execution_count": 4
    }
   ],
   "source": [
    "df['ImpactAndDamage'] = [None]*(len(df))\n",
    "df"
   ]
  },
  {
   "cell_type": "code",
   "execution_count": 28,
   "metadata": {
    "tags": []
   },
   "outputs": [],
   "source": [
    "loc_impact_damage = {}\n",
    "curr_impact = 0\n",
    "curr_damage = 0\n",
    "for index, row in df.iterrows():\n",
    "    avg_damage = np.mean(row[1:6])\n",
    "    avg_impact = np.mean(row[1:7])\n",
    "    j=0\n",
    "    if row[\"location\"] in loc_impact_damage.keys():\n",
    "        temp1,temp2,temp3 = loc_impact_damage[row[\"location\"]]\n",
    "        loc_impact_damage[row[\"location\"]]=[temp1+avg_damage,temp2+avg_impact,temp3+1]\n",
    "    else:\n",
    "        loc_impact_damage[row[\"location\"]]=[avg_damage,avg_impact,1]\n",
    "    items1 = copy.deepcopy(loc_impact_damage)\n",
    "    df.at[index,\"ImpactAndDamage\"] = [[item,items1[item]] for item in items1]\n",
    "    # df.at[index,\"Total_impact\"]=curr_impact+avg_impact\n",
    "    # curr_impact = df.at[index,\"Total_impact\"]\n",
    "    # df.at[index,\"Total_damage\"]=curr_damage+avg_damage\n",
    "    # curr_damage = df.at[index,\"Total_damage\"]\n",
    "    # print((row[1:7]))\n",
    "    # avg_damage = (df.at[index,\"medical\"]+df.at[index,\"sewer_and_water\"]+df.at[index,\"power\"]+df.at[index,\"roads_and_bridges\"]+df.at[index,\"buildings\"])/5\n",
    "    # (avg_damage*5)+df.at[index,\"shake_intensity\"]\n",
    "    # curr_dict[\"medical\"] = df.at[index,\"medical\"]\n",
    "    # curr_dict[\"sewer_and_water\"] = df.at[index,\"sewer_and_water\"]\n",
    "    # curr_dict[\"power\"]=df.at[index,\"power\"]\n",
    "    # curr_dict[\"roads_and_bridges\"]=df.at[index,\"roads_and_bridges\"]\n",
    "    # curr_dict[\"buildings\"]=df.at[index,\"buildings\"]\n",
    "    # curr_dict[\"shake_intensity\"]=df.at[index,\"shake_intensity\"]"
   ]
  },
  {
   "cell_type": "code",
   "execution_count": 5,
   "metadata": {},
   "outputs": [],
   "source": [
    "df[\"ImpactAndDamagePerDay\"] = [None]*len(df)"
   ]
  },
  {
   "cell_type": "code",
   "execution_count": 6,
   "metadata": {},
   "outputs": [
    {
     "output_type": "stream",
     "name": "stdout",
     "text": [
      "{}\n",
      "{}\n",
      "{}\n",
      "{}\n",
      "{}\n"
     ]
    }
   ],
   "source": [
    "loc_impact_damage = {}\n",
    "curr_day = df[\"time\"][0].day\n",
    "for index, row in df.iterrows():\n",
    "    if row[\"time\"].day > curr_day:\n",
    "        loc_impact_damage = {}\n",
    "        curr_day = row[\"time\"].day\n",
    "        print(loc_impact_damage)\n",
    "    avg_damage = np.mean(row[1:6])\n",
    "    avg_impact = np.mean(row[1:7])\n",
    "    j=0\n",
    "    if row[\"location\"] in loc_impact_damage.keys():\n",
    "        temp1,temp2,temp3 = loc_impact_damage[row[\"location\"]]\n",
    "        loc_impact_damage[row[\"location\"]]=[temp1+avg_damage,temp2+avg_impact,temp3+1]\n",
    "    else:\n",
    "        loc_impact_damage[row[\"location\"]]=[avg_damage,avg_impact,1]\n",
    "    items1 = copy.deepcopy(loc_impact_damage)\n",
    "    df.at[index,\"ImpactAndDamagePerDay\"] = [[item,items1[item]] for item in items1]"
   ]
  },
  {
   "cell_type": "code",
   "execution_count": 7,
   "metadata": {},
   "outputs": [],
   "source": [
    "new_data = df[[\"time\",\"ImpactAndDamagePerDay\"]].copy()\n",
    "new_data.to_csv(\"../data/barchart_cumulativedata.csv\")"
   ]
  },
  {
   "cell_type": "code",
   "execution_count": 8,
   "metadata": {},
   "outputs": [
    {
     "output_type": "execute_result",
     "data": {
      "text/plain": [
       "{'sewer_and_water': 0,\n",
       " 'power': 1,\n",
       " 'roads_and_bridges': 2,\n",
       " 'medical': 3,\n",
       " 'buildings': 4,\n",
       " 'shake_intensity': 5}"
      ]
     },
     "metadata": {},
     "execution_count": 8
    }
   ],
   "source": [
    "extra_d = {}\n",
    "k=0\n",
    "for j in [i for i in df1][1:-1]:\n",
    "    extra_d[j]=k\n",
    "    k+=1\n",
    "extra_d"
   ]
  },
  {
   "cell_type": "code",
   "execution_count": 25,
   "metadata": {},
   "outputs": [],
   "source": [
    "df1[\"ReportsPerDay\"] = [None]*len(df)"
   ]
  },
  {
   "cell_type": "code",
   "execution_count": 26,
   "metadata": {},
   "outputs": [],
   "source": [
    "loc_reports = {}\n",
    "curr_day = df1[\"time\"][0].day\n",
    "for ind, row in df1.iterrows():\n",
    "    if row[\"time\"].day > curr_day:\n",
    "        loc_reports = {}\n",
    "        curr_day = row[\"time\"].day\n",
    "    keys = row.keys()[1:7]\n",
    "    items = row[1:7]\n",
    "    if row[\"location\"] in loc_reports.keys():\n",
    "        for key in keys:\n",
    "            if(not pd.isna(row[key])):\n",
    "                loc_reports[row[\"location\"]][key]+=1\n",
    "\n",
    "    else:\n",
    "        loc_reports[row[\"location\"]] = {}\n",
    "        for key in keys:\n",
    "            # print(row[key])\n",
    "            if(not pd.isna(row[key])):\n",
    "                loc_reports[row[\"location\"]][key]=1\n",
    "            else:\n",
    "                loc_reports[row[\"location\"]][key]=0\n",
    "    all_items = copy.deepcopy(loc_reports)\n",
    "    # print(all_items)\n",
    "    df1.at[ind,\"ReportsPerDay\"] = all_items\n",
    "\n",
    "            \n",
    "                "
   ]
  },
  {
   "cell_type": "code",
   "execution_count": 27,
   "metadata": {},
   "outputs": [
    {
     "output_type": "execute_result",
     "data": {
      "text/plain": [
       "            time  sewer_and_water  power  roads_and_bridges  medical  \\\n",
       "0     2020-04-06              2.0    4.0                1.0      NaN   \n",
       "1     2020-04-06              2.0    8.0                5.0      NaN   \n",
       "2     2020-04-06              9.0    7.0                5.0      NaN   \n",
       "3     2020-04-06             10.0    2.0                9.0      NaN   \n",
       "4     2020-04-06              6.0    2.0                9.0      NaN   \n",
       "...          ...              ...    ...                ...      ...   \n",
       "83065 2020-04-11              7.0    7.0                8.0     10.0   \n",
       "83066 2020-04-11              5.0    2.0                2.0      NaN   \n",
       "83067 2020-04-11              5.0    1.0                3.0      NaN   \n",
       "83068 2020-04-11              4.0    9.0                7.0      NaN   \n",
       "83069 2020-04-11              7.0    1.0                8.0      NaN   \n",
       "\n",
       "       buildings  shake_intensity  location  \\\n",
       "0            4.0              NaN        17   \n",
       "1            3.0              0.0         2   \n",
       "2            4.0              NaN         8   \n",
       "3           10.0              NaN         4   \n",
       "4            4.0              1.0        15   \n",
       "...          ...              ...       ...   \n",
       "83065       10.0              NaN         6   \n",
       "83066        8.0              NaN         2   \n",
       "83067        2.0              NaN        15   \n",
       "83068        7.0              NaN        13   \n",
       "83069        1.0              0.0         2   \n",
       "\n",
       "                                           ReportsPerDay  \n",
       "0      {17: {'se': 1, 'po': 1, 'ro': 1, 'me': 0, 'bu'...  \n",
       "1      {17: {'se': 1, 'po': 1, 'ro': 1, 'me': 0, 'bu'...  \n",
       "2      {17: {'se': 1, 'po': 1, 'ro': 1, 'me': 0, 'bu'...  \n",
       "3      {17: {'se': 1, 'po': 1, 'ro': 1, 'me': 0, 'bu'...  \n",
       "4      {17: {'se': 1, 'po': 1, 'ro': 1, 'me': 0, 'bu'...  \n",
       "...                                                  ...  \n",
       "83065  {18: {'se': 1, 'po': 1, 'ro': 1, 'me': 0, 'bu'...  \n",
       "83066  {18: {'se': 1, 'po': 1, 'ro': 1, 'me': 0, 'bu'...  \n",
       "83067  {18: {'se': 1, 'po': 1, 'ro': 1, 'me': 0, 'bu'...  \n",
       "83068  {18: {'se': 1, 'po': 1, 'ro': 1, 'me': 0, 'bu'...  \n",
       "83069  {18: {'se': 1, 'po': 1, 'ro': 1, 'me': 0, 'bu'...  \n",
       "\n",
       "[83070 rows x 9 columns]"
      ],
      "text/html": "<div>\n<style scoped>\n    .dataframe tbody tr th:only-of-type {\n        vertical-align: middle;\n    }\n\n    .dataframe tbody tr th {\n        vertical-align: top;\n    }\n\n    .dataframe thead th {\n        text-align: right;\n    }\n</style>\n<table border=\"1\" class=\"dataframe\">\n  <thead>\n    <tr style=\"text-align: right;\">\n      <th></th>\n      <th>time</th>\n      <th>sewer_and_water</th>\n      <th>power</th>\n      <th>roads_and_bridges</th>\n      <th>medical</th>\n      <th>buildings</th>\n      <th>shake_intensity</th>\n      <th>location</th>\n      <th>ReportsPerDay</th>\n    </tr>\n  </thead>\n  <tbody>\n    <tr>\n      <th>0</th>\n      <td>2020-04-06</td>\n      <td>2.0</td>\n      <td>4.0</td>\n      <td>1.0</td>\n      <td>NaN</td>\n      <td>4.0</td>\n      <td>NaN</td>\n      <td>17</td>\n      <td>{17: {'se': 1, 'po': 1, 'ro': 1, 'me': 0, 'bu'...</td>\n    </tr>\n    <tr>\n      <th>1</th>\n      <td>2020-04-06</td>\n      <td>2.0</td>\n      <td>8.0</td>\n      <td>5.0</td>\n      <td>NaN</td>\n      <td>3.0</td>\n      <td>0.0</td>\n      <td>2</td>\n      <td>{17: {'se': 1, 'po': 1, 'ro': 1, 'me': 0, 'bu'...</td>\n    </tr>\n    <tr>\n      <th>2</th>\n      <td>2020-04-06</td>\n      <td>9.0</td>\n      <td>7.0</td>\n      <td>5.0</td>\n      <td>NaN</td>\n      <td>4.0</td>\n      <td>NaN</td>\n      <td>8</td>\n      <td>{17: {'se': 1, 'po': 1, 'ro': 1, 'me': 0, 'bu'...</td>\n    </tr>\n    <tr>\n      <th>3</th>\n      <td>2020-04-06</td>\n      <td>10.0</td>\n      <td>2.0</td>\n      <td>9.0</td>\n      <td>NaN</td>\n      <td>10.0</td>\n      <td>NaN</td>\n      <td>4</td>\n      <td>{17: {'se': 1, 'po': 1, 'ro': 1, 'me': 0, 'bu'...</td>\n    </tr>\n    <tr>\n      <th>4</th>\n      <td>2020-04-06</td>\n      <td>6.0</td>\n      <td>2.0</td>\n      <td>9.0</td>\n      <td>NaN</td>\n      <td>4.0</td>\n      <td>1.0</td>\n      <td>15</td>\n      <td>{17: {'se': 1, 'po': 1, 'ro': 1, 'me': 0, 'bu'...</td>\n    </tr>\n    <tr>\n      <th>...</th>\n      <td>...</td>\n      <td>...</td>\n      <td>...</td>\n      <td>...</td>\n      <td>...</td>\n      <td>...</td>\n      <td>...</td>\n      <td>...</td>\n      <td>...</td>\n    </tr>\n    <tr>\n      <th>83065</th>\n      <td>2020-04-11</td>\n      <td>7.0</td>\n      <td>7.0</td>\n      <td>8.0</td>\n      <td>10.0</td>\n      <td>10.0</td>\n      <td>NaN</td>\n      <td>6</td>\n      <td>{18: {'se': 1, 'po': 1, 'ro': 1, 'me': 0, 'bu'...</td>\n    </tr>\n    <tr>\n      <th>83066</th>\n      <td>2020-04-11</td>\n      <td>5.0</td>\n      <td>2.0</td>\n      <td>2.0</td>\n      <td>NaN</td>\n      <td>8.0</td>\n      <td>NaN</td>\n      <td>2</td>\n      <td>{18: {'se': 1, 'po': 1, 'ro': 1, 'me': 0, 'bu'...</td>\n    </tr>\n    <tr>\n      <th>83067</th>\n      <td>2020-04-11</td>\n      <td>5.0</td>\n      <td>1.0</td>\n      <td>3.0</td>\n      <td>NaN</td>\n      <td>2.0</td>\n      <td>NaN</td>\n      <td>15</td>\n      <td>{18: {'se': 1, 'po': 1, 'ro': 1, 'me': 0, 'bu'...</td>\n    </tr>\n    <tr>\n      <th>83068</th>\n      <td>2020-04-11</td>\n      <td>4.0</td>\n      <td>9.0</td>\n      <td>7.0</td>\n      <td>NaN</td>\n      <td>7.0</td>\n      <td>NaN</td>\n      <td>13</td>\n      <td>{18: {'se': 1, 'po': 1, 'ro': 1, 'me': 0, 'bu'...</td>\n    </tr>\n    <tr>\n      <th>83069</th>\n      <td>2020-04-11</td>\n      <td>7.0</td>\n      <td>1.0</td>\n      <td>8.0</td>\n      <td>NaN</td>\n      <td>1.0</td>\n      <td>0.0</td>\n      <td>2</td>\n      <td>{18: {'se': 1, 'po': 1, 'ro': 1, 'me': 0, 'bu'...</td>\n    </tr>\n  </tbody>\n</table>\n<p>83070 rows × 9 columns</p>\n</div>"
     },
     "metadata": {},
     "execution_count": 27
    }
   ],
   "source": [
    "df1"
   ]
  },
  {
   "cell_type": "code",
   "execution_count": 28,
   "metadata": {},
   "outputs": [],
   "source": [
    "# df1[\"ReportsPerDay\"] = [None]*len(df1)\n",
    "new_data = df1[[\"time\",\"ReportsPerDay\"]].copy()\n",
    "# new_data.to_csv(\"../data/barchart_cumulativedata.csv\")"
   ]
  },
  {
   "cell_type": "code",
   "execution_count": 29,
   "metadata": {},
   "outputs": [
    {
     "output_type": "execute_result",
     "data": {
      "text/plain": [
       "            time                                      ReportsPerDay\n",
       "0     2020-04-06  {17: {'se': 1, 'po': 1, 'ro': 1, 'me': 0, 'bu'...\n",
       "1     2020-04-06  {17: {'se': 1, 'po': 1, 'ro': 1, 'me': 0, 'bu'...\n",
       "2     2020-04-06  {17: {'se': 1, 'po': 1, 'ro': 1, 'me': 0, 'bu'...\n",
       "3     2020-04-06  {17: {'se': 1, 'po': 1, 'ro': 1, 'me': 0, 'bu'...\n",
       "4     2020-04-06  {17: {'se': 1, 'po': 1, 'ro': 1, 'me': 0, 'bu'...\n",
       "...          ...                                                ...\n",
       "83065 2020-04-11  {18: {'se': 1, 'po': 1, 'ro': 1, 'me': 0, 'bu'...\n",
       "83066 2020-04-11  {18: {'se': 1, 'po': 1, 'ro': 1, 'me': 0, 'bu'...\n",
       "83067 2020-04-11  {18: {'se': 1, 'po': 1, 'ro': 1, 'me': 0, 'bu'...\n",
       "83068 2020-04-11  {18: {'se': 1, 'po': 1, 'ro': 1, 'me': 0, 'bu'...\n",
       "83069 2020-04-11  {18: {'se': 1, 'po': 1, 'ro': 1, 'me': 0, 'bu'...\n",
       "\n",
       "[83070 rows x 2 columns]"
      ],
      "text/html": "<div>\n<style scoped>\n    .dataframe tbody tr th:only-of-type {\n        vertical-align: middle;\n    }\n\n    .dataframe tbody tr th {\n        vertical-align: top;\n    }\n\n    .dataframe thead th {\n        text-align: right;\n    }\n</style>\n<table border=\"1\" class=\"dataframe\">\n  <thead>\n    <tr style=\"text-align: right;\">\n      <th></th>\n      <th>time</th>\n      <th>ReportsPerDay</th>\n    </tr>\n  </thead>\n  <tbody>\n    <tr>\n      <th>0</th>\n      <td>2020-04-06</td>\n      <td>{17: {'se': 1, 'po': 1, 'ro': 1, 'me': 0, 'bu'...</td>\n    </tr>\n    <tr>\n      <th>1</th>\n      <td>2020-04-06</td>\n      <td>{17: {'se': 1, 'po': 1, 'ro': 1, 'me': 0, 'bu'...</td>\n    </tr>\n    <tr>\n      <th>2</th>\n      <td>2020-04-06</td>\n      <td>{17: {'se': 1, 'po': 1, 'ro': 1, 'me': 0, 'bu'...</td>\n    </tr>\n    <tr>\n      <th>3</th>\n      <td>2020-04-06</td>\n      <td>{17: {'se': 1, 'po': 1, 'ro': 1, 'me': 0, 'bu'...</td>\n    </tr>\n    <tr>\n      <th>4</th>\n      <td>2020-04-06</td>\n      <td>{17: {'se': 1, 'po': 1, 'ro': 1, 'me': 0, 'bu'...</td>\n    </tr>\n    <tr>\n      <th>...</th>\n      <td>...</td>\n      <td>...</td>\n    </tr>\n    <tr>\n      <th>83065</th>\n      <td>2020-04-11</td>\n      <td>{18: {'se': 1, 'po': 1, 'ro': 1, 'me': 0, 'bu'...</td>\n    </tr>\n    <tr>\n      <th>83066</th>\n      <td>2020-04-11</td>\n      <td>{18: {'se': 1, 'po': 1, 'ro': 1, 'me': 0, 'bu'...</td>\n    </tr>\n    <tr>\n      <th>83067</th>\n      <td>2020-04-11</td>\n      <td>{18: {'se': 1, 'po': 1, 'ro': 1, 'me': 0, 'bu'...</td>\n    </tr>\n    <tr>\n      <th>83068</th>\n      <td>2020-04-11</td>\n      <td>{18: {'se': 1, 'po': 1, 'ro': 1, 'me': 0, 'bu'...</td>\n    </tr>\n    <tr>\n      <th>83069</th>\n      <td>2020-04-11</td>\n      <td>{18: {'se': 1, 'po': 1, 'ro': 1, 'me': 0, 'bu'...</td>\n    </tr>\n  </tbody>\n</table>\n<p>83070 rows × 2 columns</p>\n</div>"
     },
     "metadata": {},
     "execution_count": 29
    }
   ],
   "source": [
    "new_data.to_csv('../data/nan_reports_data1.csv')\n",
    "new_data"
   ]
  },
  {
   "cell_type": "code",
   "execution_count": null,
   "metadata": {},
   "outputs": [],
   "source": []
  }
 ],
 "metadata": {
  "kernelspec": {
   "display_name": "Python 3",
   "language": "python",
   "name": "python3"
  },
  "language_info": {
   "codemirror_mode": {
    "name": "ipython",
    "version": 3
   },
   "file_extension": ".py",
   "mimetype": "text/x-python",
   "name": "python",
   "nbconvert_exporter": "python",
   "pygments_lexer": "ipython3",
   "version": "3.8.3-final"
  }
 },
 "nbformat": 4,
 "nbformat_minor": 2
}